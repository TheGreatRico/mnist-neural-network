{
 "cells": [
  {
   "cell_type": "code",
   "execution_count": 1,
   "id": "3f7336af",
   "metadata": {},
   "outputs": [],
   "source": [
    "import numpy as np\n",
    "import pandas as pd\n",
    "import pickle\n",
    "from keras.datasets import fashion_mnist\n",
    "from matplotlib import pyplot as plt"
   ]
  },
  {
   "cell_type": "markdown",
   "id": "3390c4d0",
   "metadata": {},
   "source": [
    "#### Overview of the problem"
   ]
  },
  {
   "cell_type": "markdown",
   "id": "84543027",
   "metadata": {},
   "source": [
    "The input is a black and white image of 28 by 28 pixels. The image contains 10 different pieces of clothing with correct labels. The task is to match the clothes in the image with the label as accurately as possible. The dataset contains labels for each image, which we will use to train the neural network."
   ]
  },
  {
   "cell_type": "markdown",
   "id": "c0bf7be5",
   "metadata": {},
   "source": [
    "#### Rectified Linear Unit (ReLU)"
   ]
  },
  {
   "cell_type": "markdown",
   "id": "7291f646",
   "metadata": {},
   "source": [
    "ReLU is an activation function for the first layer of our Neural Network. It is defined as positive part of its argument:\n",
    "$$\\begin{equation}\n",
    "  f(x)=max(0,x)=\\frac{x+|x|}{2}=\n",
    "    \\begin{cases}\n",
    "      x & \\text{if  $x>0$,}\\\\\n",
    "      0 & \\text{otherwise.}\n",
    "    \\end{cases}       \n",
    "\\end{equation}$$"
   ]
  },
  {
   "cell_type": "code",
   "execution_count": 2,
   "id": "3fa8749b",
   "metadata": {},
   "outputs": [],
   "source": [
    "def ReLU(Z):\n",
    "    return np.maximum(Z, 0)"
   ]
  },
  {
   "cell_type": "markdown",
   "id": "78918396",
   "metadata": {},
   "source": [
    "#### Derivative of Rectified Linear Unit"
   ]
  },
  {
   "cell_type": "markdown",
   "id": "2f39290c",
   "metadata": {},
   "source": [
    "The derivative is pretty straight forward and is expressed by the following equation:\n",
    "$$\\begin{equation}\n",
    "  f^{'}(x)=\n",
    "    \\begin{cases}\n",
    "      x & \\text{if $x>0$,}\\\\\n",
    "      0 & \\text{if $x<0$.}\n",
    "    \\end{cases}       \n",
    "\\end{equation}$$"
   ]
  },
  {
   "cell_type": "code",
   "execution_count": 3,
   "id": "1f9b8868",
   "metadata": {},
   "outputs": [],
   "source": [
    "def deriv_ReLU(Z):\n",
    "    return Z > 0"
   ]
  },
  {
   "cell_type": "markdown",
   "id": "47ece3d6",
   "metadata": {},
   "source": [
    "#### Softmax"
   ]
  },
  {
   "cell_type": "markdown",
   "id": "a6d9d0ae",
   "metadata": {},
   "source": [
    "Sofmax is an activation function, that we use for the second layer of Neural Network. We can compute it using formula:\n",
    "$$\\frac{e^{z_{i}}}{\\sum_{K}^{j=1}e^{z_{j}}}$$"
   ]
  },
  {
   "cell_type": "code",
   "execution_count": 4,
   "id": "c6ebdbfc",
   "metadata": {},
   "outputs": [],
   "source": [
    "def softmax(Z):\n",
    "    exp = np.exp(Z - np.max(Z))\n",
    "    return exp / exp.sum(axis=0)"
   ]
  },
  {
   "cell_type": "markdown",
   "id": "fe5f89c6",
   "metadata": {},
   "source": [
    "#### Initial Parameters"
   ]
  },
  {
   "cell_type": "markdown",
   "id": "333a1e21",
   "metadata": {},
   "source": [
    "We initialize our Neural Network with random parameters. We also normalize them."
   ]
  },
  {
   "cell_type": "code",
   "execution_count": 5,
   "id": "f611e73b",
   "metadata": {},
   "outputs": [],
   "source": [
    "def init_params(size):\n",
    "    W1 = (np.random.rand(10, size) - 0.5) * np.sqrt(1./(784))\n",
    "    b1 = (np.random.rand(10, 1) - 0.5) * np.sqrt(1./10)\n",
    "    W2 = (np.random.rand(10, 10) - 0.5)  * np.sqrt(1./20)\n",
    "    b2 = (np.random.rand(10, 1) - 0.5) * np.sqrt(1./(784))\n",
    "    return W1, b1, W2, b2"
   ]
  },
  {
   "cell_type": "markdown",
   "id": "a60158f7",
   "metadata": {},
   "source": [
    "#### Forward propagation"
   ]
  },
  {
   "cell_type": "markdown",
   "id": "249d7293",
   "metadata": {},
   "source": [
    "Input data is fed through a network, in a forward direction, to generate an output."
   ]
  },
  {
   "cell_type": "code",
   "execution_count": 6,
   "id": "0371e9f3",
   "metadata": {},
   "outputs": [],
   "source": [
    "def forward_prop(X, W1, b1, W2, b2):\n",
    "    Z1 = W1.dot(X) + b1 # 10, m\n",
    "    A1 = ReLU(Z1) # 10, m\n",
    "    Z2 = W2.dot(A1) + b2 # 10, m\n",
    "    A2 = softmax(Z2) # 10, m\n",
    "    return Z1, A1, Z2, A2"
   ]
  },
  {
   "cell_type": "markdown",
   "id": "8f0467b8",
   "metadata": {},
   "source": [
    "#### One Hot Encoding of Target Variable"
   ]
  },
  {
   "cell_type": "markdown",
   "id": "069d3397",
   "metadata": {},
   "source": [
    "We encode correct label of target variable into the second layer vector format using One Hot Encoding. For example, if we know that the picture represents 2, we want to encode the vector as [0, 0, 1, 0, 0, 0, 0, 0, 0, 0]."
   ]
  },
  {
   "cell_type": "code",
   "execution_count": 7,
   "metadata": {},
   "outputs": [],
   "source": [
    "def one_hot(Y):\n",
    "    one_hot_Y = np.zeros((Y.max() + 1, Y.size))\n",
    "    one_hot_Y[Y, np.arange(Y.size)] = 1\n",
    "    return one_hot_Y"
   ]
  },
  {
   "cell_type": "markdown",
   "id": "0a3534d2",
   "metadata": {},
   "source": [
    "#### Backpropagation"
   ]
  },
  {
   "cell_type": "markdown",
   "id": "bf8ca4ec",
   "metadata": {},
   "source": [
    "Backpropagation computes the gradient in weight space of a feedforward Neural Network."
   ]
  },
  {
   "cell_type": "code",
   "execution_count": 8,
   "id": "628337d3",
   "metadata": {},
   "outputs": [],
   "source": [
    "def back_prop(X, Y, A1, A2, W2, Z1, m):\n",
    "    one_hot_Y = one_hot(Y)\n",
    "    dZ2 = 2 * (A2 - one_hot_Y) # 10, m\n",
    "    dW2 = 1 / m * (dZ2.dot(A1.T)) # 10, 10\n",
    "    db2 = 1 / m * np.sum(dZ2, 1) # 10, 1\n",
    "    dZ1 = W2.T.dot(dZ2) * deriv_ReLU(Z1) # 10, m\n",
    "    dW1 = 1 / m * (dZ1.dot(X.T)) # 10, 784\n",
    "    db1 = 1 / m * np.sum(dZ1, 1) # 10, 1\n",
    "    return dW1, db1, dW2, db2"
   ]
  },
  {
   "cell_type": "markdown",
   "id": "f929ffac",
   "metadata": {},
   "source": [
    "#### Updating Parameters"
   ]
  },
  {
   "cell_type": "markdown",
   "id": "4c40812d",
   "metadata": {},
   "source": [
    "Since we know all the parameters now, all we need to do is to update parameters. We also apply learning rate $\\alpha$ which is simply the step size at each iteration while moving towards a minimum of a loss function."
   ]
  },
  {
   "cell_type": "code",
   "execution_count": 9,
   "id": "9976c246",
   "metadata": {},
   "outputs": [],
   "source": [
    "def update_params(alpha, W1, b1, W2, b2, dW1, db1, dW2, db2):\n",
    "    W1 -= alpha * dW1\n",
    "    b1 -= alpha * np.reshape(db1, (10, 1))\n",
    "    W2 -= alpha * dW2\n",
    "    b2 -= alpha * np.reshape(db2, (10, 1))\n",
    "    return W1, b1, W2, b2"
   ]
  },
  {
   "cell_type": "markdown",
   "id": "25cee64e",
   "metadata": {},
   "source": [
    "#### Get Predictions"
   ]
  },
  {
   "cell_type": "markdown",
   "id": "74ad994e",
   "metadata": {},
   "source": [
    "This is a support function which converts the values of the probability vector obtained in the second layer of the Neural Network using the softmax function into a single output value"
   ]
  },
  {
   "cell_type": "code",
   "execution_count": 10,
   "id": "ab509d16",
   "metadata": {},
   "outputs": [],
   "source": [
    "def get_predictions(A2):\n",
    "    return np.argmax(A2, 0)"
   ]
  },
  {
   "cell_type": "markdown",
   "id": "bebe0379",
   "metadata": {},
   "source": [
    "#### Loss Function"
   ]
  },
  {
   "cell_type": "markdown",
   "id": "ff3c8032",
   "metadata": {},
   "source": [
    "As a loss function, we will use the simple ratio of the predicted images to all the images that the Neural Network received."
   ]
  },
  {
   "cell_type": "code",
   "execution_count": 11,
   "id": "65fba2df",
   "metadata": {},
   "outputs": [],
   "source": [
    "def get_accuracy(predictions, Y):\n",
    "    return np.sum(predictions == Y) / Y.size"
   ]
  },
  {
   "cell_type": "markdown",
   "id": "f2b16479",
   "metadata": {},
   "source": [
    "#### Neural Network body"
   ]
  },
  {
   "cell_type": "markdown",
   "id": "64037ee7",
   "metadata": {},
   "source": [
    "The function is used as the body of the Neural Network. This function is responsible for iterations and is the entry point into the program. It is this function that should be called with initial parameters. It returns already trained parameters of the Neural Network, which can be used for prediction and determination of the final accuracy."
   ]
  },
  {
   "cell_type": "code",
   "execution_count": 12,
   "id": "ec779185",
   "metadata": {},
   "outputs": [],
   "source": [
    "def gradient_descent(X, Y, alpha, iterations):\n",
    "    size , m = X.shape\n",
    "    W1, b1, W2, b2 = init_params(size)\n",
    "    for i in range(iterations):\n",
    "        Z1, A1, Z2, A2 = forward_prop(X, W1, b1, W2, b2)\n",
    "        dW1, db1, dW2, db2 = back_prop(X, Y, A1, A2, W2, Z1, m)\n",
    "        W1, b1, W2, b2 = update_params(alpha, W1, b1, W2, b2, dW1, db1, dW2, db2)\n",
    "        if (i+1) % int(iterations/10) == 0:\n",
    "            print(f\"Iteration: {i+1} / {iterations}\")\n",
    "            prediction = get_predictions(A2)\n",
    "            print(f'{get_accuracy(prediction, Y):.3%}')\n",
    "    return W1, b1, W2, b2"
   ]
  },
  {
   "cell_type": "markdown",
   "id": "2ce9c372",
   "metadata": {},
   "source": [
    "#### Helper-functions for outputting results"
   ]
  },
  {
   "cell_type": "markdown",
   "id": "87db0c38",
   "metadata": {},
   "source": [
    "Functions that simplify inference. The first one is responsible for text output of the predicted image. The second one outputs a picture for which Neural Network predicted the value. The third function draws first *C* images that were wrongly predicted."
   ]
  },
  {
   "cell_type": "code",
   "execution_count": 28,
   "id": "cbb0fc92",
   "metadata": {},
   "outputs": [],
   "source": [
    "ID_TO_LABEL = {0: \"T-shirt/Top\", 1: \"Trouser\", 2: \"Pullover\", 3: \"Dress\", 4: \"Coat\", \n",
    "                5: \"Sandal\", 6: \"Shirt\", 7: \"Sneaker\", 8: \"Bag\", 9: \"Ankle Boot\"}\n",
    "\n",
    "def make_predictions(X, W1, b1, W2, b2):\n",
    "    _, _, _, A2 = forward_prop(X, W1, b1, W2, b2)\n",
    "    predictions = get_predictions(A2)\n",
    "    return predictions\n",
    "\n",
    "def show_prediction(index, X, Y, W1, b1, W2, b2):\n",
    "    vector_X = X[:, index, None]\n",
    "    prediction = make_predictions(vector_X, W1, b1, W2, b2)\n",
    "    label = Y[index]\n",
    "    print(\"Prediction: \", ID_TO_LABEL[int(prediction)])\n",
    "    print(\"Label: \", ID_TO_LABEL[label])\n",
    "    current_image = vector_X.reshape((width, height)) * scale_factor\n",
    "    plt.gray()\n",
    "    plt.imshow(current_image, interpolation='nearest')\n",
    "    plt.show()\n",
    "\n",
    "def show_wrong_prediction(X, Y, W1, b1, W2, b2, count=10):\n",
    "    prediction = make_predictions(X, W1, b1, W2, b2)\n",
    "    c = 0\n",
    "    print(f\"Model has {get_accuracy(prediction, Y)*100}% accuracy.\")\n",
    "    print(f\"Drawing first {count} wrong predictions:\\n\")\n",
    "    for i in range(len(prediction)):\n",
    "        if c >= count: break\n",
    "        if Y[i] != prediction[i]:\n",
    "            print(\"Prediction: \", ID_TO_LABEL[prediction[i]])\n",
    "            print(\"Label: \", ID_TO_LABEL[Y[i]])\n",
    "            current_image = X[:, i, None].reshape((width, height)) * scale_factor\n",
    "            plt.gray()\n",
    "            plt.imshow(current_image, interpolation='nearest')\n",
    "            plt.show()\n",
    "            c += 1"
   ]
  },
  {
   "cell_type": "markdown",
   "id": "0811cbe4",
   "metadata": {},
   "source": [
    "#### Creating a dataset and splitting it into a training and test part"
   ]
  },
  {
   "cell_type": "markdown",
   "id": "9ef7cacc",
   "metadata": {},
   "source": [
    "Even though our pictures are black and white, they still have 254 shades between white and black. We need to normalize these color values so that they belong to the interval from 0 to 1. To do this, we introduce a Scale Factor equal to 255. Thus white pixels will remain zeros, black pixels will remain ones, and all other shades will have numerical values in between."
   ]
  },
  {
   "cell_type": "code",
   "execution_count": 14,
   "id": "2a0c0622",
   "metadata": {},
   "outputs": [],
   "source": [
    "(train_X, train_y), (test_X, test_y) = fashion_mnist.load_data()\n",
    "scale_factor = 255\n",
    "width = train_X.shape[1]\n",
    "height = train_X.shape[2]\n",
    "train_X = np.reshape(train_X, (train_X.shape[0], width*height)).T / scale_factor\n",
    "test_X = np.reshape(test_X, (test_X.shape[0], width*height)).T / scale_factor"
   ]
  },
  {
   "cell_type": "markdown",
   "id": "b5ca881a",
   "metadata": {},
   "source": [
    "#### Neural Network training and validation on several examples"
   ]
  },
  {
   "cell_type": "code",
   "execution_count": 24,
   "id": "c17efa82",
   "metadata": {},
   "outputs": [
    {
     "name": "stdout",
     "output_type": "stream",
     "text": [
      "Iteration: 200 / 2000\n",
      "76.518%\n",
      "Iteration: 400 / 2000\n",
      "82.245%\n",
      "Iteration: 600 / 2000\n",
      "82.457%\n",
      "Iteration: 800 / 2000\n",
      "82.960%\n",
      "Iteration: 1000 / 2000\n",
      "83.197%\n",
      "Iteration: 1200 / 2000\n",
      "84.313%\n",
      "Iteration: 1400 / 2000\n",
      "85.082%\n",
      "Iteration: 1600 / 2000\n",
      "85.043%\n",
      "Iteration: 1800 / 2000\n",
      "85.227%\n",
      "Iteration: 2000 / 2000\n",
      "85.720%\n"
     ]
    }
   ],
   "source": [
    "W1, b1, W2, b2 = gradient_descent(train_X, train_y, 0.16, 2000)\n",
    "with open(\"fashion_params.pkl\", \"wb\") as dump_file:\n",
    "    pickle.dump((W1, b1, W2, b2), dump_file)"
   ]
  },
  {
   "cell_type": "code",
   "execution_count": 29,
   "id": "ff2e1cc3",
   "metadata": {},
   "outputs": [
    {
     "name": "stdout",
     "output_type": "stream",
     "text": [
      "Prediction:  Ankle Boot\n",
      "Label:  Ankle Boot\n"
     ]
    },
    {
     "data": {
      "image/png": "[encoded data removed]",
      "text/plain": [
       "<Figure size 640x480 with 1 Axes>"
      ]
     },
     "metadata": {},
     "output_type": "display_data"
    },
    {
     "name": "stdout",
     "output_type": "stream",
     "text": [
      "Model has 83.83% accuracy.\n",
      "Drawing first 10 wrong predictions:\n",
      "\n",
      "Prediction:  Sandal\n",
      "Label:  Sneaker\n"
     ]
    },
    {
     "data": {
      "image/png": "[encoded data removed]",
      "text/plain": [
       "<Figure size 640x480 with 1 Axes>"
      ]
     },
     "metadata": {},
     "output_type": "display_data"
    },
    {
     "name": "stdout",
     "output_type": "stream",
     "text": [
      "Prediction:  T-shirt/Top\n",
      "Label:  Pullover\n"
     ]
    },
    {
     "data": {
      "image/png": "[encoded data removed]",
      "text/plain": [
       "<Figure size 640x480 with 1 Axes>"
      ]
     },
     "metadata": {},
     "output_type": "display_data"
    },
    {
     "name": "stdout",
     "output_type": "stream",
     "text": [
      "Prediction:  Sneaker\n",
      "Label:  Ankle Boot\n"
     ]
    },
    {
     "data": {
      "image/png": "[encoded data removed]",
      "text/plain": [
       "<Figure size 640x480 with 1 Axes>"
      ]
     },
     "metadata": {},
     "output_type": "display_data"
    },
    {
     "name": "stdout",
     "output_type": "stream",
     "text": [
      "Prediction:  Pullover\n",
      "Label:  Coat\n"
     ]
    },
    {
     "data": {
      "image/png": "[encoded data removed]",
      "text/plain": [
       "<Figure size 640x480 with 1 Axes>"
      ]
     },
     "metadata": {},
     "output_type": "display_data"
    },
    {
     "name": "stdout",
     "output_type": "stream",
     "text": [
      "Prediction:  Coat\n",
      "Label:  Dress\n"
     ]
    },
    {
     "data": {
      "image/png": "[encoded data removed]",
      "text/plain": [
       "<Figure size 640x480 with 1 Axes>"
      ]
     },
     "metadata": {},
     "output_type": "display_data"
    },
    {
     "name": "stdout",
     "output_type": "stream",
     "text": [
      "Prediction:  T-shirt/Top\n",
      "Label:  Shirt\n"
     ]
    },
    {
     "data": {
      "image/png": "[encoded data removed]",
      "text/plain": [
       "<Figure size 640x480 with 1 Axes>"
      ]
     },
     "metadata": {},
     "output_type": "display_data"
    },
    {
     "name": "stdout",
     "output_type": "stream",
     "text": [
      "Prediction:  T-shirt/Top\n",
      "Label:  Dress\n"
     ]
    },
    {
     "data": {
      "image/png": "[encoded data removed]",
      "text/plain": [
       "<Figure size 640x480 with 1 Axes>"
      ]
     },
     "metadata": {},
     "output_type": "display_data"
    },
    {
     "name": "stdout",
     "output_type": "stream",
     "text": [
      "Prediction:  Coat\n",
      "Label:  Pullover\n"
     ]
    },
    {
     "data": {
      "image/png": "[encoded data removed]",
      "text/plain": [
       "<Figure size 640x480 with 1 Axes>"
      ]
     },
     "metadata": {},
     "output_type": "display_data"
    },
    {
     "name": "stdout",
     "output_type": "stream",
     "text": [
      "Prediction:  Shirt\n",
      "Label:  Pullover\n"
     ]
    },
    {
     "data": {
      "image/png": "[encoded data removed]",
      "text/plain": [
       "<Figure size 640x480 with 1 Axes>"
      ]
     },
     "metadata": {},
     "output_type": "display_data"
    },
    {
     "name": "stdout",
     "output_type": "stream",
     "text": [
      "Prediction:  Pullover\n",
      "Label:  Coat\n"
     ]
    },
    {
     "data": {
      "image/png": "[encoded data removed]",
      "text/plain": [
       "<Figure size 640x480 with 1 Axes>"
      ]
     },
     "metadata": {},
     "output_type": "display_data"
    }
   ],
   "source": [
    "with open(\"fashion_params.pkl\", \"rb\") as dump_file:\n",
    "    W1, b1, W2, b2 = pickle.load(dump_file)\n",
    "\n",
    "show_prediction(0, test_X, test_y, W1, b1, W2, b2)\n",
    "\n",
    "show_wrong_prediction(test_X, test_y, W1, b1, W2, b2)"
   ]
  },
  {
   "cell_type": "markdown",
   "id": "ed737dd3",
   "metadata": {},
   "source": [
    "#### Conclusion"
   ]
  },
  {
   "cell_type": "markdown",
   "id": "a5554a27",
   "metadata": {},
   "source": [
    "We managed to get from Neural Network an accuracy of about 83%, which for such a simple network with such a small number of iterations is not a bad result in my opinion. Even when our Neural Network is wrong, it is not mindless with it's assumptions. And some pictures are hard to clearly identify even to a human being. In any case, this result is very far from random guessing, which would give an accuracy of about 10%."
   ]
  }
 ],
 "metadata": {
  "kernelspec": {
   "display_name": "Python 3 (ipykernel)",
   "language": "python",
   "name": "python3"
  },
  "language_info": {
   "codemirror_mode": {
    "name": "ipython",
    "version": 3
   },
   "file_extension": ".py",
   "mimetype": "text/x-python",
   "name": "python",
   "nbconvert_exporter": "python",
   "pygments_lexer": "ipython3",
   "version": "3.8.10"
  }
 },
 "nbformat": 4,
 "nbformat_minor": 5
}
